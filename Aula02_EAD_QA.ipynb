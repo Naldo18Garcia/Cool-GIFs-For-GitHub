{
  "nbformat": 4,
  "nbformat_minor": 0,
  "metadata": {
    "colab": {
      "provenance": [],
      "include_colab_link": true
    },
    "kernelspec": {
      "name": "python3",
      "display_name": "Python 3"
    },
    "language_info": {
      "name": "python"
    }
  },
  "cells": [
    {
      "cell_type": "markdown",
      "metadata": {
        "id": "view-in-github",
        "colab_type": "text"
      },
      "source": [
        "<a href=\"https://colab.research.google.com/github/Naldo18Garcia/Cool-GIFs-For-GitHub/blob/main/Aula02_EAD_QA.ipynb\" target=\"_parent\"><img src=\"https://colab.research.google.com/assets/colab-badge.svg\" alt=\"Open In Colab\"/></a>"
      ]
    },
    {
      "cell_type": "markdown",
      "source": [
        "Teste Funcional\n"
      ],
      "metadata": {
        "id": "RWHrkKg534ON"
      }
    },
    {
      "cell_type": "code",
      "execution_count": null,
      "metadata": {
        "colab": {
          "base_uri": "https://localhost:8080/"
        },
        "id": "nLT6z5IGwt4f",
        "outputId": "2402288e-a353-4400-ac18-4e99cfb070e3"
      },
      "outputs": [
        {
          "output_type": "stream",
          "name": "stdout",
          "text": [
            "Camisa Polo adicionado ao carrinho com sucesso!\n",
            "Carrinho atual: ['Camisa Polo']\n"
          ]
        }
      ],
      "source": [
        "carrinho = []\n",
        "\n",
        "def adicionar_ao_carrinho(item):\n",
        "    carrinho.append(item)\n",
        "    return f\"{item} adicionado ao carrinho com sucesso!\"\n",
        "\n",
        "print(adicionar_ao_carrinho(\"Camisa Polo\"))\n",
        "print('Carrinho atual:', carrinho)"
      ]
    },
    {
      "cell_type": "markdown",
      "source": [
        "Teste de Regressão"
      ],
      "metadata": {
        "id": "2R0jGA9g4WbS"
      }
    },
    {
      "cell_type": "code",
      "source": [
        "usuarios = {\n",
        "    \"admin\": \"1234\",\n",
        "    \"user\": \"abcd\"\n",
        "}\n",
        "\n",
        "def login(usuario, senha):\n",
        "    if usuario in usuarios and usuarios[usuario] == senha:\n",
        "        return \"Login bem-sucedido!\"\n",
        "    else:\n",
        "        return \"Erro de login.\"\n",
        "\n",
        "# Adicionando um novo usuário ao sistema\n",
        "usuarios[\"novo_user\"] = \"senha123\"\n",
        "\n",
        "\n",
        "print(login(\"admin\", \"1234\"))        # Deve continuar funcionando\n",
        "print(login(\"novo_user\", \"senha123\"))  # Deve funcionar também"
      ],
      "metadata": {
        "colab": {
          "base_uri": "https://localhost:8080/"
        },
        "id": "kdjJWJ0q4ZSn",
        "outputId": "257c6bba-0c3a-42cc-ed49-6fc3db86bdea"
      },
      "execution_count": null,
      "outputs": [
        {
          "output_type": "stream",
          "name": "stdout",
          "text": [
            "Login bem-sucedido!\n",
            "Login bem-sucedido!\n"
          ]
        }
      ]
    },
    {
      "cell_type": "markdown",
      "source": [
        "Teste Segurança"
      ],
      "metadata": {
        "id": "7vkExwEM6Bzc"
      }
    },
    {
      "cell_type": "code",
      "source": [
        "usuarios = {\n",
        "    \"admin\": \"1234\",\n",
        "    \"user\": \"abcd\"\n",
        "}\n",
        "\n",
        "tentativas = {}\n",
        "\n",
        "def login_seguro(usuario, senha):\n",
        "\n",
        "    if usuario not in tentativas:\n",
        "        tentativas[usuario] = 0\n",
        "\n",
        "\n",
        "    if tentativas[usuario] >= 3:\n",
        "        return \"Conta bloqueada. Tente novamente mais tarde.\"\n",
        "\n",
        "\n",
        "    if usuario in usuarios and usuarios[usuario] == senha:\n",
        "        tentativas[usuario] = 0\n",
        "        return \"Login bem-sucedido!\"\n",
        "    else:\n",
        "        tentativas[usuario] += 1\n",
        "        return f\"Login inválido. Tentativas restantes: {3 - tentativas[usuario]}\"\n",
        "\n",
        "\n",
        "print(login_seguro(\"admin\", \"0000\"))  # tentativa 1 (senha errada)\n",
        "print(login_seguro(\"admin\", \"0000\"))  # tentativa 2\n",
        "print(login_seguro(\"admin\", \"0000\"))  # tentativa 3\n",
        "print(login_seguro(\"admin\", \"1234\"))  # senha correta, mas conta bloqueada"
      ],
      "metadata": {
        "colab": {
          "base_uri": "https://localhost:8080/"
        },
        "id": "ySvnHb2P6GDV",
        "outputId": "0fb02daa-1838-4673-bc16-a29efa58c5e9"
      },
      "execution_count": null,
      "outputs": [
        {
          "output_type": "stream",
          "name": "stdout",
          "text": [
            "Login inválido. Tentativas restantes: 2\n",
            "Login inválido. Tentativas restantes: 1\n",
            "Login inválido. Tentativas restantes: 0\n",
            "Conta bloqueada. Tente novamente mais tarde.\n"
          ]
        }
      ]
    },
    {
      "cell_type": "markdown",
      "source": [
        "Teste de Performance"
      ],
      "metadata": {
        "id": "Umfl70Dg7uHk"
      }
    },
    {
      "cell_type": "code",
      "source": [
        "import time\n",
        "\n",
        "# Função que usa um loop para somar até N\n",
        "def soma_lenta(n):\n",
        "    soma = 0\n",
        "    for i in range(n):\n",
        "        soma += i\n",
        "    return soma\n",
        "\n",
        "# Medindo tempo de execução\n",
        "inicio = time.time()\n",
        "soma_lenta(1_000_000)\n",
        "fim = time.time()\n",
        "\n",
        "print(f\"Tempo de execução (lento): {fim - inicio:.4f} segundos\")\n"
      ],
      "metadata": {
        "colab": {
          "base_uri": "https://localhost:8080/"
        },
        "id": "IasOR4HM7tjD",
        "outputId": "6e7088ff-79f1-453e-e4c8-429fdc437989"
      },
      "execution_count": null,
      "outputs": [
        {
          "output_type": "stream",
          "name": "stdout",
          "text": [
            "Tempo de execução (lento): 0.0521 segundos\n"
          ]
        }
      ]
    },
    {
      "cell_type": "code",
      "source": [
        "# Usando a fórmula da soma de uma PA\n",
        "inicio = time.time()\n",
        "resultado = (1_000_000 * (1_000_000 - 1)) // 2\n",
        "fim = time.time()\n",
        "\n",
        "print(f\"Tempo de execução (rápido): {fim - inicio:.6f} segundos\")\n"
      ],
      "metadata": {
        "colab": {
          "base_uri": "https://localhost:8080/"
        },
        "id": "nUyMq1N89LaR",
        "outputId": "9f53becd-ef2a-490d-9edf-2b9d75c834ee"
      },
      "execution_count": null,
      "outputs": [
        {
          "output_type": "stream",
          "name": "stdout",
          "text": [
            "Tempo de execução (rápido): 0.000086 segundos\n"
          ]
        }
      ]
    },
    {
      "cell_type": "markdown",
      "source": [
        "Teste de API"
      ],
      "metadata": {
        "id": "EqxBB2qv_8c3"
      }
    },
    {
      "cell_type": "code",
      "source": [
        "import requests"
      ],
      "metadata": {
        "id": "z7UHF7HE_-Iw"
      },
      "execution_count": null,
      "outputs": []
    },
    {
      "cell_type": "code",
      "source": [
        "url = \"https://jsonplaceholder.typicode.com/posts/1\"\n",
        "resposta = requests.get(url)\n",
        "print(\"Status Code:\", resposta.status_code)  # Esperado: 200\n",
        "print(\"Dados recebidos (JSON):\")\n",
        "print(resposta.json())"
      ],
      "metadata": {
        "colab": {
          "base_uri": "https://localhost:8080/"
        },
        "id": "PZ2c05JPAw61",
        "outputId": "3050eec9-5cec-4301-f414-c438a0181773"
      },
      "execution_count": null,
      "outputs": [
        {
          "output_type": "stream",
          "name": "stdout",
          "text": [
            "Status Code: 200\n",
            "Dados recebidos (JSON):\n",
            "{'userId': 1, 'id': 1, 'title': 'sunt aut facere repellat provident occaecati excepturi optio reprehenderit', 'body': 'quia et suscipit\\nsuscipit recusandae consequuntur expedita et cum\\nreprehenderit molestiae ut ut quas totam\\nnostrum rerum est autem sunt rem eveniet architecto'}\n"
          ]
        }
      ]
    },
    {
      "cell_type": "code",
      "source": [
        "# Validação simples: o título do post deve ser conhecido\n",
        "dados = resposta.json()\n",
        "\n",
        "# Esperado: title tem que ser uma string\n",
        "if isinstance(dados[\"title\"], str):\n",
        "    print(\"✅ Título recebido corretamente!\")\n",
        "else:\n",
        "    print(\"❌ Erro: Título não é uma string!\")\n"
      ],
      "metadata": {
        "colab": {
          "base_uri": "https://localhost:8080/"
        },
        "id": "jpDoVMDIBUFu",
        "outputId": "4d98aa35-161a-48f8-dd55-4566730fc86a"
      },
      "execution_count": null,
      "outputs": [
        {
          "output_type": "stream",
          "name": "stdout",
          "text": [
            "✅ Título recebido corretamente!\n"
          ]
        }
      ]
    },
    {
      "cell_type": "code",
      "source": [
        "# Tentando acessar um post que não existe (ID 9999)\n",
        "resposta_erro = requests.get(\"https://jsonplaceholder.typicode.com/posts/9999\")\n",
        "\n",
        "print(\"Status Code:\", resposta_erro.status_code)\n",
        "\n",
        "if resposta_erro.status_code == 404:\n",
        "    print(\"✅ Teste de erro passou! API retornou 404 como esperado.\")\n",
        "else:\n",
        "    print(\"❌ Algo está errado com o tratamento de erro da API.\")\n"
      ],
      "metadata": {
        "id": "rQIAKAkmBhN8",
        "outputId": "7460d4a4-d895-4bd5-cf1c-14b571329bf4",
        "colab": {
          "base_uri": "https://localhost:8080/"
        }
      },
      "execution_count": null,
      "outputs": [
        {
          "output_type": "stream",
          "name": "stdout",
          "text": [
            "Status Code: 404\n",
            "✅ Teste de erro passou! API retornou 404 como esperado.\n"
          ]
        }
      ]
    }
  ]
}