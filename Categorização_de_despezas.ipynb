{
  "nbformat": 4,
  "nbformat_minor": 0,
  "metadata": {
    "colab": {
      "provenance": [],
      "authorship_tag": "ABX9TyO+MHKOezt4frpsghyj1uY2",
      "include_colab_link": true
    },
    "kernelspec": {
      "name": "python3",
      "display_name": "Python 3"
    },
    "language_info": {
      "name": "python"
    }
  },
  "cells": [
    {
      "cell_type": "markdown",
      "metadata": {
        "id": "view-in-github",
        "colab_type": "text"
      },
      "source": [
        "<a href=\"https://colab.research.google.com/github/Naldo18Garcia/Cool-GIFs-For-GitHub/blob/main/Categoriza%C3%A7%C3%A3o_de_despezas.ipynb\" target=\"_parent\"><img src=\"https://colab.research.google.com/assets/colab-badge.svg\" alt=\"Open In Colab\"/></a>"
      ]
    },
    {
      "cell_type": "code",
      "execution_count": 1,
      "metadata": {
        "colab": {
          "base_uri": "https://localhost:8080/"
        },
        "id": "FkQjx-n3S1NU",
        "outputId": "f51f9f8b-1099-476c-b4c0-2999943f65c1"
      },
      "outputs": [
        {
          "output_type": "stream",
          "name": "stdout",
          "text": [
            "Despesa registrada com sucesso: Almoço no restaurante - R$100 em Alimentação\n",
            "Despesa registrada com sucesso: Uber para o trabalho - R$50 em Transporte\n",
            "Despesa registrada com sucesso: Cinema com amigos - R$20 em Lazer\n",
            "Despesa registrada com sucesso: Curso online - R$200 em Educação\n",
            "\n",
            "Despesas Registradas:\n",
            "1. Almoço no restaurante - R$100 em Alimentação\n",
            "2. Uber para o trabalho - R$50 em Transporte\n",
            "3. Cinema com amigos - R$20 em Lazer\n",
            "4. Curso online - R$200 em Educação\n"
          ]
        }
      ],
      "source": [
        "# Dicionário de categorias de despesas\n",
        "categorias_validas = [\"Alimentação\", \"Transporte\", \"Lazer\", \"Saúde\", \"Educação\"]\n",
        "\n",
        "# Função para registrar uma despesa com categoria\n",
        "def registrar_despesa(valor, descricao, categoria):\n",
        "    # Validações\n",
        "    if valor <= 0:\n",
        "        return \"Erro: O valor da despesa deve ser maior que zero.\"\n",
        "    if not descricao:\n",
        "        return \"Erro: A descrição da despesa não pode estar vazia.\"\n",
        "    if categoria not in categorias_validas:\n",
        "        return f\"Erro: Categoria inválida. As categorias válidas são: {', '.join(categorias_validas)}\"\n",
        "\n",
        "    # Registrando a despesa\n",
        "    despesa = {\n",
        "        \"valor\": valor,\n",
        "        \"descricao\": descricao,\n",
        "        \"categoria\": categoria\n",
        "    }\n",
        "    return f\"Despesa registrada com sucesso: {despesa['descricao']} - R${despesa['valor']} em {despesa['categoria']}\"\n",
        "\n",
        "# Função para exibir todas as despesas registradas\n",
        "despesas_registradas = []\n",
        "\n",
        "def exibir_despesas():\n",
        "    if not despesas_registradas:\n",
        "        return \"Nenhuma despesa registrada até o momento.\"\n",
        "    resumo = \"\\n\".join([f\"{i+1}. {d['descricao']} - R${d['valor']} em {d['categoria']}\" for i, d in enumerate(despesas_registradas)])\n",
        "    return resumo\n",
        "\n",
        "# Casos de teste - Registrando algumas despesas\n",
        "print(registrar_despesa(100, \"Almoço no restaurante\", \"Alimentação\"))\n",
        "print(registrar_despesa(50, \"Uber para o trabalho\", \"Transporte\"))\n",
        "print(registrar_despesa(20, \"Cinema com amigos\", \"Lazer\"))\n",
        "print(registrar_despesa(200, \"Curso online\", \"Educação\"))\n",
        "\n",
        "# Exibindo todas as despesas registradas\n",
        "despesas_registradas.append({\"valor\": 100, \"descricao\": \"Almoço no restaurante\", \"categoria\": \"Alimentação\"})\n",
        "despesas_registradas.append({\"valor\": 50, \"descricao\": \"Uber para o trabalho\", \"categoria\": \"Transporte\"})\n",
        "despesas_registradas.append({\"valor\": 20, \"descricao\": \"Cinema com amigos\", \"categoria\": \"Lazer\"})\n",
        "despesas_registradas.append({\"valor\": 200, \"descricao\": \"Curso online\", \"categoria\": \"Educação\"})\n",
        "\n",
        "print(\"\\nDespesas Registradas:\")\n",
        "print(exibir_despesas())\n"
      ]
    }
  ]
}